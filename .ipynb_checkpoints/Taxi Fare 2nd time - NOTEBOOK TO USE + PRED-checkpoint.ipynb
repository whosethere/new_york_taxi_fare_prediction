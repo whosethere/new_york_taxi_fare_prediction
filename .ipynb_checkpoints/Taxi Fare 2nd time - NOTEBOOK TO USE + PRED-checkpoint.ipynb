{
 "cells": [
  {
   "cell_type": "code",
   "execution_count": 1,
   "metadata": {},
   "outputs": [],
   "source": [
    "#Solution to Kaggle Taxi Fare Prediction competition\n",
    "#This file contains only data cleaning and data preparation\n",
    "#Test and train data are available for download at Kaggle.com.\n",
    "#https://www.kaggle.com/c/new-york-city-taxi-fare-prediction\n",
    "#Placement: 303/1488"
   ]
  },
  {
   "cell_type": "code",
   "execution_count": 2,
   "metadata": {},
   "outputs": [],
   "source": [
    "import pandas as pd\n",
    "import numpy as np\n",
    "from sklearn.model_selection import train_test_split\n",
    "from sklearn.metrics import mean_squared_error\n",
    "from sklearn.metrics import mean_squared_error\n",
    "import xgboost as xgb\n",
    "import os\n",
    "import math\n",
    "from tqdm import tqdm\n",
    "from subprocess import call\n",
    "import matplotlib.pyplot as plt"
   ]
  },
  {
   "cell_type": "code",
   "execution_count": 3,
   "metadata": {},
   "outputs": [],
   "source": [
    "#inputs\n",
    "TRAIN_PATH = 'Data/train_1mln.csv'\n",
    "TEST_PATH = 'Data/test.csv'\n",
    "#TRAIN_PATH = 'Data/train.csv'\n"
   ]
  },
  {
   "cell_type": "code",
   "execution_count": 4,
   "metadata": {},
   "outputs": [],
   "source": [
    "#calculate distance between coordinates using Haversine formula ( https://en.wikipedia.org/wiki/Haversine_formula )\n",
    "def calc_distance(lat1, lon1, lat2, lon2):\n",
    "    radius = 6371 # km\n",
    "    dlat = math.radians(lat2-lat1)\n",
    "    dlon = math.radians(lon2-lon1)\n",
    "    a = math.sin(dlat/2) * math.sin(dlat/2) + math.cos(math.radians(lat1)) \\\n",
    "        * math.cos(math.radians(lat2)) * math.sin(dlon/2) * math.sin(dlon/2)\n",
    "    c = 2 * math.atan2(math.sqrt(a), math.sqrt(1-a))\n",
    "    d = radius * c\n",
    "\n",
    "    return d\n",
    "\n",
    "#use apply function to calculate distance\n",
    "def get_distance(df):\n",
    "    df['distance'] = df.apply(lambda row: calc_distance(row['pickup_latitude'], \n",
    "                                 row['pickup_longitude'], \n",
    "                                 row['dropoff_latitude'], \n",
    "                                 row['dropoff_longitude']), axis=1)\n",
    "    return df\n",
    "\n",
    "#set max distance, drop values above 100km \n",
    "def lower_distance(df):\n",
    "    df = df[df['distance'] < 100]\n",
    "    return df"
   ]
  },
  {
   "cell_type": "code",
   "execution_count": 5,
   "metadata": {},
   "outputs": [],
   "source": [
    "#drop missings, unreal values\n",
    "def clean_data(df):\n",
    "    df = df.dropna(how = 'any', axis = 'rows')\n",
    "    df = df[(df['passenger_count'] > 0) & (df['passenger_count'] < 7)]\n",
    "    df = df[(df['fare_amount'] > 0) & (df['fare_amount'] < 100)]\n",
    "    df = df[(df['pickup_latitude'] != 0) & (df['pickup_longitude'] != 0) &\n",
    "                        (df['dropoff_latitude'] != 0) & (df['dropoff_longitude'] != 0)]\n",
    "    return df"
   ]
  },
  {
   "cell_type": "code",
   "execution_count": 6,
   "metadata": {},
   "outputs": [],
   "source": [
    "#Extract hour, day, month and year  from datetime\n",
    "def get_date_features(df):\n",
    "    df['hour'] = df.pickup_datetime.dt.hour\n",
    "    df['dayofweek'] = df.pickup_datetime.dt.dayofweek\n",
    "    df['month'] = df.pickup_datetime.dt.month\n",
    "    df['year'] = df.pickup_datetime.dt.year\n",
    "    \n",
    "    return df"
   ]
  },
  {
   "cell_type": "code",
   "execution_count": 7,
   "metadata": {},
   "outputs": [],
   "source": [
    "# define bounding box - max cords values from test set\n",
    "BB = (-74.55, -72.75, 40.45, 41.85)\n",
    "\n",
    "# Select trips only within boundingbox - max cordinates values extracted from test_set\n",
    "def select_within_boundingbox(df, BB):\n",
    "    df = df[(df.pickup_longitude >= BB[0]) & (df.pickup_longitude <= BB[1]) & \\\n",
    "           (df.pickup_latitude >= BB[2]) & (df.pickup_latitude <= BB[3]) & \\\n",
    "           (df.dropoff_longitude >= BB[0]) & (df.dropoff_longitude <= BB[1]) & \\\n",
    "           (df.dropoff_latitude >= BB[2]) & (df.dropoff_latitude <= BB[3])]\n",
    "    return df\n",
    "\n",
    "\n",
    "#Remove incorrect values - locations on water\n",
    "#Trick from https://www.kaggle.com/breemen/nyc-taxi-fare-data-exploration\n",
    "def remove_datapoints_from_water(df):\n",
    "    def lonlat_to_xy(longitude, latitude, dx, dy, BB):\n",
    "        return (dx*(longitude - BB[0])/(BB[1]-BB[0])).astype('int'), \\\n",
    "               (dy - dy*(latitude - BB[2])/(BB[3]-BB[2])).astype('int')\n",
    "    # read nyc mask and turn into boolean map with\n",
    "    # land = True, water = False\n",
    "    nyc_mask = plt.imread('Data/nyc_mask.png')[:,:,0] > 0.9\n",
    "    \n",
    "    # calculate for each lon,lat coordinate the xy coordinate in the mask map\n",
    "    pickup_x, pickup_y = lonlat_to_xy(df.pickup_longitude, df.pickup_latitude, \n",
    "                                      nyc_mask.shape[1], nyc_mask.shape[0], BB)\n",
    "    dropoff_x, dropoff_y = lonlat_to_xy(df.dropoff_longitude, df.dropoff_latitude, \n",
    "                                      nyc_mask.shape[1], nyc_mask.shape[0], BB)    \n",
    "    # calculate boolean index\n",
    "    idx = nyc_mask[pickup_y, pickup_x] & nyc_mask[dropoff_y, dropoff_x]\n",
    "    df = df[idx]\n",
    "    # return only datapoints on land\n",
    "    return df\n",
    "\n"
   ]
  },
  {
   "cell_type": "code",
   "execution_count": 8,
   "metadata": {
    "scrolled": true
   },
   "outputs": [],
   "source": [
    "def prepare_data(path_to_file):\n",
    "    #define types for faster data read\n",
    "    traintypes = {'fare_amount': 'float32',\n",
    "                  'pickup_datetime': 'str', \n",
    "                  'pickup_longitude': 'float32',\n",
    "                  'pickup_latitude': 'float32',\n",
    "                  'dropoff_longitude': 'float32',\n",
    "                  'dropoff_latitude': 'float32',\n",
    "                  'passenger_count': 'uint8'}\n",
    "    cols = list(traintypes.keys())\n",
    "\n",
    "    #size of single dataframe import(in loop)\n",
    "    chunksize = 1000 \n",
    "    #list to hold the batch dataframe\n",
    "    df_list = [] \n",
    "    for df_part in tqdm(pd.read_csv(path_to_file, usecols=cols, dtype=traintypes, chunksize=chunksize)):\n",
    "\n",
    "        # Neat trick from https://www.kaggle.com/btyuhas/bayesian-optimization-with-xgboost\n",
    "        # Using parse_dates would be much slower!\n",
    "        df_part['pickup_datetime'] = df_part['pickup_datetime'].str.slice(0, 16)\n",
    "        df_part['pickup_datetime'] = pd.to_datetime(df_part['pickup_datetime'], utc=True, format='%Y-%m-%d %H:%M')\n",
    "        df_part = clean_data(df_part)\n",
    "        df_part = get_date_features(df_part)\n",
    "        df_part = get_distance(df_part)\n",
    "        df_part = lower_distance(df_part)\n",
    "        df_part = select_within_boundingbox(df_part, BB)\n",
    "        df_part = remove_datapoints_from_water(df_part)\n",
    "        df_part = df_part.drop('pickup_datetime', axis=1)\n",
    "        df_list.append(df_part)\n",
    "    # Merge all dataframes into one dataframe\n",
    "    df = pd.concat(df_list)\n",
    "    del df_list\n",
    "    return df"
   ]
  },
  {
   "cell_type": "code",
   "execution_count": 9,
   "metadata": {
    "scrolled": true
   },
   "outputs": [
    {
     "name": "stderr",
     "output_type": "stream",
     "text": [
      "1000it [02:11,  7.62it/s]\n"
     ]
    }
   ],
   "source": [
    "df = prepare_data(TRAIN_PATH)"
   ]
  },
  {
   "cell_type": "code",
   "execution_count": 10,
   "metadata": {},
   "outputs": [
    {
     "name": "stdout",
     "output_type": "stream",
     "text": [
      "<class 'pandas.core.frame.DataFrame'>\n",
      "Int64Index: 953977 entries, 0 to 999999\n",
      "Data columns (total 11 columns):\n",
      "fare_amount          953977 non-null float32\n",
      "pickup_longitude     953977 non-null float32\n",
      "pickup_latitude      953977 non-null float32\n",
      "dropoff_longitude    953977 non-null float32\n",
      "dropoff_latitude     953977 non-null float32\n",
      "passenger_count      953977 non-null uint8\n",
      "hour                 953977 non-null int64\n",
      "dayofweek            953977 non-null int64\n",
      "month                953977 non-null int64\n",
      "year                 953977 non-null int64\n",
      "distance             953977 non-null float64\n",
      "dtypes: float32(5), float64(1), int64(4), uint8(1)\n",
      "memory usage: 62.8 MB\n"
     ]
    }
   ],
   "source": [
    "df.info()"
   ]
  },
  {
   "cell_type": "code",
   "execution_count": 11,
   "metadata": {},
   "outputs": [],
   "source": [
    "from xgboost.sklearn import XGBClassifier\n",
    "from sklearn import metrics"
   ]
  },
  {
   "cell_type": "code",
   "execution_count": 12,
   "metadata": {},
   "outputs": [],
   "source": [
    "def XGBoost(X_train,X_test,y_train,y_test,num_rounds=50):\n",
    "    dtrain = xgb.DMatrix(X_train,label=y_train)\n",
    "    dtest = xgb.DMatrix(X_test,label=y_test)\n",
    "\n",
    "    return xgb.train(params={\n",
    "                    'eta':'0.3',\n",
    "                    'max_depth':'8',\n",
    "                    'eval_metric':'rmse',\n",
    "                    'objective':'reg:linear',\n",
    "                    'tree_method':'approx'}\n",
    "                    ,dtrain=dtrain,num_boost_round=num_rounds, \n",
    "                    early_stopping_rounds=10,evals=[(dtest,'test')],)"
   ]
  },
  {
   "cell_type": "code",
   "execution_count": 13,
   "metadata": {
    "scrolled": true
   },
   "outputs": [
    {
     "name": "stdout",
     "output_type": "stream",
     "text": [
      "[22:32:24] Tree method is selected to be 'approx'\n",
      "[22:32:24] /workspace/src/tree/updater_prune.cc:74: tree pruning end, 1 roots, 396 extra nodes, 0 pruned nodes, max_depth=8\n",
      "[0]\ttest-rmse:9.95188\n",
      "Will train until test-rmse hasn't improved in 10 rounds.\n",
      "[22:32:24] /workspace/src/tree/updater_prune.cc:74: tree pruning end, 1 roots, 430 extra nodes, 0 pruned nodes, max_depth=8\n",
      "[1]\ttest-rmse:7.46864\n",
      "[22:32:25] /workspace/src/tree/updater_prune.cc:74: tree pruning end, 1 roots, 432 extra nodes, 0 pruned nodes, max_depth=8\n",
      "[2]\ttest-rmse:5.87259\n",
      "[22:32:25] /workspace/src/tree/updater_prune.cc:74: tree pruning end, 1 roots, 464 extra nodes, 0 pruned nodes, max_depth=8\n",
      "[3]\ttest-rmse:4.89419\n",
      "[22:32:25] /workspace/src/tree/updater_prune.cc:74: tree pruning end, 1 roots, 476 extra nodes, 0 pruned nodes, max_depth=8\n",
      "[4]\ttest-rmse:4.32068\n",
      "[22:32:25] /workspace/src/tree/updater_prune.cc:74: tree pruning end, 1 roots, 454 extra nodes, 0 pruned nodes, max_depth=8\n",
      "[5]\ttest-rmse:4.00073\n",
      "[22:32:26] /workspace/src/tree/updater_prune.cc:74: tree pruning end, 1 roots, 492 extra nodes, 0 pruned nodes, max_depth=8\n",
      "[6]\ttest-rmse:3.81578\n",
      "[22:32:26] /workspace/src/tree/updater_prune.cc:74: tree pruning end, 1 roots, 464 extra nodes, 0 pruned nodes, max_depth=8\n",
      "[7]\ttest-rmse:3.71158\n",
      "[22:32:26] /workspace/src/tree/updater_prune.cc:74: tree pruning end, 1 roots, 480 extra nodes, 0 pruned nodes, max_depth=8\n",
      "[8]\ttest-rmse:3.64797\n",
      "[22:32:27] /workspace/src/tree/updater_prune.cc:74: tree pruning end, 1 roots, 440 extra nodes, 0 pruned nodes, max_depth=8\n",
      "[9]\ttest-rmse:3.60967\n",
      "[22:32:27] /workspace/src/tree/updater_prune.cc:74: tree pruning end, 1 roots, 460 extra nodes, 0 pruned nodes, max_depth=8\n",
      "[10]\ttest-rmse:3.58838\n",
      "[22:32:27] /workspace/src/tree/updater_prune.cc:74: tree pruning end, 1 roots, 436 extra nodes, 0 pruned nodes, max_depth=8\n",
      "[11]\ttest-rmse:3.56999\n",
      "[22:32:28] /workspace/src/tree/updater_prune.cc:74: tree pruning end, 1 roots, 392 extra nodes, 0 pruned nodes, max_depth=8\n",
      "[12]\ttest-rmse:3.55667\n",
      "[22:32:28] /workspace/src/tree/updater_prune.cc:74: tree pruning end, 1 roots, 428 extra nodes, 0 pruned nodes, max_depth=8\n",
      "[13]\ttest-rmse:3.54488\n",
      "[22:32:28] /workspace/src/tree/updater_prune.cc:74: tree pruning end, 1 roots, 480 extra nodes, 0 pruned nodes, max_depth=8\n",
      "[14]\ttest-rmse:3.53076\n",
      "[22:32:28] /workspace/src/tree/updater_prune.cc:74: tree pruning end, 1 roots, 420 extra nodes, 0 pruned nodes, max_depth=8\n",
      "[15]\ttest-rmse:3.52469\n",
      "[22:32:29] /workspace/src/tree/updater_prune.cc:74: tree pruning end, 1 roots, 376 extra nodes, 0 pruned nodes, max_depth=8\n",
      "[16]\ttest-rmse:3.5238\n",
      "[22:32:29] /workspace/src/tree/updater_prune.cc:74: tree pruning end, 1 roots, 370 extra nodes, 0 pruned nodes, max_depth=8\n",
      "[17]\ttest-rmse:3.52076\n",
      "[22:32:29] /workspace/src/tree/updater_prune.cc:74: tree pruning end, 1 roots, 454 extra nodes, 0 pruned nodes, max_depth=8\n",
      "[18]\ttest-rmse:3.50089\n",
      "[22:32:30] /workspace/src/tree/updater_prune.cc:74: tree pruning end, 1 roots, 428 extra nodes, 0 pruned nodes, max_depth=8\n",
      "[19]\ttest-rmse:3.50168\n",
      "[22:32:30] /workspace/src/tree/updater_prune.cc:74: tree pruning end, 1 roots, 310 extra nodes, 0 pruned nodes, max_depth=8\n",
      "[20]\ttest-rmse:3.50225\n",
      "[22:32:30] /workspace/src/tree/updater_prune.cc:74: tree pruning end, 1 roots, 434 extra nodes, 0 pruned nodes, max_depth=8\n",
      "[21]\ttest-rmse:3.4995\n",
      "[22:32:31] /workspace/src/tree/updater_prune.cc:74: tree pruning end, 1 roots, 410 extra nodes, 0 pruned nodes, max_depth=8\n",
      "[22]\ttest-rmse:3.4984\n",
      "[22:32:31] /workspace/src/tree/updater_prune.cc:74: tree pruning end, 1 roots, 406 extra nodes, 0 pruned nodes, max_depth=8\n",
      "[23]\ttest-rmse:3.48617\n",
      "[22:32:31] /workspace/src/tree/updater_prune.cc:74: tree pruning end, 1 roots, 376 extra nodes, 0 pruned nodes, max_depth=8\n",
      "[24]\ttest-rmse:3.47643\n",
      "[22:32:32] /workspace/src/tree/updater_prune.cc:74: tree pruning end, 1 roots, 252 extra nodes, 0 pruned nodes, max_depth=8\n",
      "[25]\ttest-rmse:3.47474\n",
      "[22:32:32] /workspace/src/tree/updater_prune.cc:74: tree pruning end, 1 roots, 252 extra nodes, 0 pruned nodes, max_depth=8\n",
      "[26]\ttest-rmse:3.47466\n",
      "[22:32:32] /workspace/src/tree/updater_prune.cc:74: tree pruning end, 1 roots, 396 extra nodes, 0 pruned nodes, max_depth=8\n",
      "[27]\ttest-rmse:3.46839\n",
      "[22:32:32] /workspace/src/tree/updater_prune.cc:74: tree pruning end, 1 roots, 382 extra nodes, 0 pruned nodes, max_depth=8\n",
      "[28]\ttest-rmse:3.46602\n",
      "[22:32:33] /workspace/src/tree/updater_prune.cc:74: tree pruning end, 1 roots, 394 extra nodes, 0 pruned nodes, max_depth=8\n",
      "[29]\ttest-rmse:3.46098\n",
      "[22:32:33] /workspace/src/tree/updater_prune.cc:74: tree pruning end, 1 roots, 358 extra nodes, 0 pruned nodes, max_depth=8\n",
      "[30]\ttest-rmse:3.45905\n",
      "[22:32:33] /workspace/src/tree/updater_prune.cc:74: tree pruning end, 1 roots, 336 extra nodes, 0 pruned nodes, max_depth=8\n",
      "[31]\ttest-rmse:3.4595\n",
      "[22:32:34] /workspace/src/tree/updater_prune.cc:74: tree pruning end, 1 roots, 270 extra nodes, 0 pruned nodes, max_depth=8\n",
      "[32]\ttest-rmse:3.45779\n",
      "[22:32:34] /workspace/src/tree/updater_prune.cc:74: tree pruning end, 1 roots, 344 extra nodes, 0 pruned nodes, max_depth=8\n",
      "[33]\ttest-rmse:3.45714\n",
      "[22:32:34] /workspace/src/tree/updater_prune.cc:74: tree pruning end, 1 roots, 286 extra nodes, 0 pruned nodes, max_depth=8\n",
      "[34]\ttest-rmse:3.45652\n",
      "[22:32:35] /workspace/src/tree/updater_prune.cc:74: tree pruning end, 1 roots, 428 extra nodes, 0 pruned nodes, max_depth=8\n",
      "[35]\ttest-rmse:3.45616\n",
      "[22:32:35] /workspace/src/tree/updater_prune.cc:74: tree pruning end, 1 roots, 460 extra nodes, 0 pruned nodes, max_depth=8\n",
      "[36]\ttest-rmse:3.45509\n",
      "[22:32:35] /workspace/src/tree/updater_prune.cc:74: tree pruning end, 1 roots, 414 extra nodes, 0 pruned nodes, max_depth=8\n",
      "[37]\ttest-rmse:3.45237\n",
      "[22:32:35] /workspace/src/tree/updater_prune.cc:74: tree pruning end, 1 roots, 326 extra nodes, 0 pruned nodes, max_depth=8\n",
      "[38]\ttest-rmse:3.45579\n",
      "[22:32:36] /workspace/src/tree/updater_prune.cc:74: tree pruning end, 1 roots, 426 extra nodes, 0 pruned nodes, max_depth=8\n",
      "[39]\ttest-rmse:3.44698\n",
      "[22:32:36] /workspace/src/tree/updater_prune.cc:74: tree pruning end, 1 roots, 370 extra nodes, 0 pruned nodes, max_depth=8\n",
      "[40]\ttest-rmse:3.4458\n",
      "[22:32:36] /workspace/src/tree/updater_prune.cc:74: tree pruning end, 1 roots, 322 extra nodes, 0 pruned nodes, max_depth=8\n",
      "[41]\ttest-rmse:3.44357\n",
      "[22:32:37] /workspace/src/tree/updater_prune.cc:74: tree pruning end, 1 roots, 440 extra nodes, 0 pruned nodes, max_depth=8\n",
      "[42]\ttest-rmse:3.43945\n",
      "[22:32:37] /workspace/src/tree/updater_prune.cc:74: tree pruning end, 1 roots, 392 extra nodes, 0 pruned nodes, max_depth=8\n",
      "[43]\ttest-rmse:3.44147\n",
      "[22:32:37] /workspace/src/tree/updater_prune.cc:74: tree pruning end, 1 roots, 468 extra nodes, 0 pruned nodes, max_depth=8\n",
      "[44]\ttest-rmse:3.44042\n",
      "[22:32:38] /workspace/src/tree/updater_prune.cc:74: tree pruning end, 1 roots, 464 extra nodes, 0 pruned nodes, max_depth=8\n",
      "[45]\ttest-rmse:3.43646\n",
      "[22:32:38] /workspace/src/tree/updater_prune.cc:74: tree pruning end, 1 roots, 232 extra nodes, 0 pruned nodes, max_depth=8\n",
      "[46]\ttest-rmse:3.43663\n",
      "[22:32:38] /workspace/src/tree/updater_prune.cc:74: tree pruning end, 1 roots, 250 extra nodes, 0 pruned nodes, max_depth=8\n",
      "[47]\ttest-rmse:3.43634\n",
      "[22:32:38] /workspace/src/tree/updater_prune.cc:74: tree pruning end, 1 roots, 424 extra nodes, 0 pruned nodes, max_depth=8\n",
      "[48]\ttest-rmse:3.43491\n",
      "[22:32:39] /workspace/src/tree/updater_prune.cc:74: tree pruning end, 1 roots, 450 extra nodes, 0 pruned nodes, max_depth=8\n",
      "[49]\ttest-rmse:3.4349\n"
     ]
    }
   ],
   "source": [
    "X = df.drop([\"fare_amount\"],axis=1)\n",
    "y = df.fare_amount\n",
    "X_train, X_test, y_train, y_test = train_test_split(X,y,test_size=0.1,random_state=123)\n",
    "xgbm = XGBoost(X_train,X_test,y_train,y_test)"
   ]
  },
  {
   "cell_type": "code",
   "execution_count": 14,
   "metadata": {},
   "outputs": [],
   "source": [
    "from sklearn.externals import joblib "
   ]
  },
  {
   "cell_type": "code",
   "execution_count": 15,
   "metadata": {},
   "outputs": [
    {
     "data": {
      "text/plain": [
       "['Taxi_Fare_Prediction_model.pkl']"
      ]
     },
     "execution_count": 15,
     "metadata": {},
     "output_type": "execute_result"
    }
   ],
   "source": [
    "joblib.dump(xgbm, 'Taxi_Fare_Prediction_model.pkl')"
   ]
  },
  {
   "cell_type": "code",
   "execution_count": 16,
   "metadata": {},
   "outputs": [],
   "source": [
    "df_test = pd.read_csv(TEST_PATH)"
   ]
  },
  {
   "cell_type": "code",
   "execution_count": 17,
   "metadata": {},
   "outputs": [],
   "source": [
    "df_key = df_test.key\n",
    "df_test = df_test.drop(\"key\", axis=1)"
   ]
  },
  {
   "cell_type": "code",
   "execution_count": 18,
   "metadata": {},
   "outputs": [],
   "source": [
    "traintypes = {\n",
    "              'pickup_datetime': 'str', \n",
    "              'pickup_longitude': 'float32',\n",
    "              'pickup_latitude': 'float32',\n",
    "              'dropoff_longitude': 'float32',\n",
    "              'dropoff_latitude': 'float32',\n",
    "              'passenger_count': 'uint8'}\n",
    "\n",
    "df_test['pickup_datetime'] = df_test['pickup_datetime'].str.slice(0, 16)\n",
    "df_test['pickup_datetime'] = pd.to_datetime(df_test['pickup_datetime'], utc=True, format='%Y-%m-%d %H:%M')\n",
    "df_test = get_date_features(df_test)\n",
    "df_test = get_distance(df_test)\n",
    "df_test = df_test.drop('pickup_datetime', axis=1)"
   ]
  },
  {
   "cell_type": "code",
   "execution_count": 19,
   "metadata": {
    "scrolled": true
   },
   "outputs": [],
   "source": [
    "xgbm_pred = xgbm.predict(xgb.DMatrix(df_test), ntree_limit = xgbm.best_ntree_limit)"
   ]
  },
  {
   "cell_type": "code",
   "execution_count": 20,
   "metadata": {},
   "outputs": [],
   "source": [
    "prediction = pd.DataFrame(xgbm_pred)"
   ]
  },
  {
   "cell_type": "code",
   "execution_count": 21,
   "metadata": {},
   "outputs": [],
   "source": [
    "submission = pd.concat([df_key, prediction], axis=1)"
   ]
  },
  {
   "cell_type": "code",
   "execution_count": 22,
   "metadata": {
    "scrolled": true
   },
   "outputs": [],
   "source": [
    "submission.columns = [\"key\", \"fare_amount\"]"
   ]
  },
  {
   "cell_type": "code",
   "execution_count": 23,
   "metadata": {},
   "outputs": [
    {
     "data": {
      "text/plain": [
       "(9914, 2)"
      ]
     },
     "execution_count": 23,
     "metadata": {},
     "output_type": "execute_result"
    }
   ],
   "source": [
    "submission.shape"
   ]
  },
  {
   "cell_type": "code",
   "execution_count": 24,
   "metadata": {},
   "outputs": [],
   "source": [
    "submission.to_csv('submission_taxi_fare_prediction.csv', index=False)"
   ]
  }
 ],
 "metadata": {
  "kernelspec": {
   "display_name": "Python 3",
   "language": "python",
   "name": "python3"
  },
  "language_info": {
   "codemirror_mode": {
    "name": "ipython",
    "version": 3
   },
   "file_extension": ".py",
   "mimetype": "text/x-python",
   "name": "python",
   "nbconvert_exporter": "python",
   "pygments_lexer": "ipython3",
   "version": "3.6.8"
  }
 },
 "nbformat": 4,
 "nbformat_minor": 2
}
